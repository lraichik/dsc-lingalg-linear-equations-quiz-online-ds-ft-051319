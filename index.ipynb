{
 "cells": [
  {
   "cell_type": "markdown",
   "metadata": {},
   "source": [
    "# Systems of Linear Equations - Quiz\n",
    "\n",
    "## Introduction\n",
    "The following scenarios present problems that can be solved as system of equations, while performing substitutions and eliminations as you saw in the previous lesson. \n",
    "\n",
    "* Solve these problems by hand, showing all the steps to work out the unknown variable values \n",
    "* Verify your answers by showing the calculated values satisfy all equations\n",
    "\n",
    "## Objectives\n",
    "You will be able to:\n",
    "* Describe a system of linear equations for solving simple analytical problems\n",
    "* Solve a system of equations using elimination and substitution\n",
    "\n",
    "## Exercise 1\n",
    "Jane paid 12 dollars for 4 cups of coffee and 4 cups of tea. 3 cups of coffee cost as much as 2 cups of tea. What would be the total cost of 5 cups of coffee and 5 cups of tea?\n",
    "\n",
    "### Solution\n",
    "\n",
    "> Let $x$ be the unit price of coffee and $y$ be the unit price of tea"
   ]
  },
  {
   "cell_type": "code",
   "execution_count": 2,
   "metadata": {},
   "outputs": [
    {
     "data": {
      "text/plain": [
       "15.0"
      ]
     },
     "execution_count": 2,
     "metadata": {},
     "output_type": "execute_result"
    }
   ],
   "source": [
    "# 4x + 4y = 12\n",
    "# 3x - 2y = 0\n",
    "# 6x - 4y = 0\n",
    "# 10x + 0 = 12\n",
    "x = 12/10\n",
    "y = (12 - 4.8)/4\n",
    "5*x + 5*y "
   ]
  },
  {
   "cell_type": "markdown",
   "metadata": {},
   "source": [
    "## Exercise 2\n",
    "\n",
    "Jim has more money than Bob. If Jim gave Bob 20 dollars, they would have the same amount. If Bob gave Jim 22 dollars, however, Jim would then have twice as much as Bob. \n",
    "\n",
    "How much does each one actually have?\n",
    "\n",
    "### Solution\n",
    "> Let x be the amount of money that Jim has and y be the amount that Bob has."
   ]
  },
  {
   "cell_type": "code",
   "execution_count": 4,
   "metadata": {},
   "outputs": [
    {
     "name": "stdout",
     "output_type": "stream",
     "text": [
      "106\n",
      "146\n"
     ]
    }
   ],
   "source": [
    "# x - 20 = y + 20\n",
    "# x + 22 = 2(y-22)\n",
    "# x - y  = 20 + 20\n",
    "# 2y - 44 = x + 22\n",
    "# -x + 2y = 44 + 22\n",
    "y = 106\n",
    "print(y)\n",
    "x = y + 40\n",
    "print(x)"
   ]
  },
  {
   "cell_type": "markdown",
   "metadata": {},
   "source": [
    "## Exercise 3\n",
    "\n",
    "Mia has 30 coins, consisting of quarters (25 cents) and dimes (10 cents), which totals to the amount 5.70 dollars.  \n",
    "How many of each does she have?\n",
    "\n",
    "### Solution"
   ]
  },
  {
   "cell_type": "code",
   "execution_count": 11,
   "metadata": {},
   "outputs": [
    {
     "name": "stdout",
     "output_type": "stream",
     "text": [
      "18.0 12.0 30.0 5.7\n"
     ]
    }
   ],
   "source": [
    "# q + d = 30\n",
    "# .25q + .10d = 5.70\n",
    "# 25q + 10d = 570\n",
    "# -10q + -10d = -300\n",
    "# 15q = 270\n",
    "q = 270/15 \n",
    "d = 30 - q\n",
    "print(q, d, q+d, .25*q+.10*d)"
   ]
  },
  {
   "cell_type": "markdown",
   "metadata": {},
   "source": [
    "## Level up - Optional \n",
    "For more pratice with linear equations, Visit following links for more complex equations and online answers verification:\n",
    "\n",
    "* https://www.transum.org/software/SW/Starter_of_the_day/Students/Simultaneous_Equations.asp?Level=6\n",
    "* https://www.transum.org/software/SW/Starter_of_the_day/Students/Simultaneous_Equations.asp?Level=7\n",
    "\n",
    "## Summary\n",
    "In this lesson, you learned how to solve linear equations by hand to find the co-efficient values. You'll now move forward to have a deeper look into vectors and matrices and how Python and Numpy can help us solve more complex equations in an analytical context. "
   ]
  }
 ],
 "metadata": {
  "kernelspec": {
   "display_name": "Python 3",
   "language": "python",
   "name": "python3"
  },
  "language_info": {
   "codemirror_mode": {
    "name": "ipython",
    "version": 3
   },
   "file_extension": ".py",
   "mimetype": "text/x-python",
   "name": "python",
   "nbconvert_exporter": "python",
   "pygments_lexer": "ipython3",
   "version": "3.6.6"
  }
 },
 "nbformat": 4,
 "nbformat_minor": 2
}
